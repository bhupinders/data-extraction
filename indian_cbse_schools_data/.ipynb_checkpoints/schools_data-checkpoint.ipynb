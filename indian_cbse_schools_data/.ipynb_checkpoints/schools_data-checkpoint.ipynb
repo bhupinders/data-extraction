{
 "cells": [
  {
   "cell_type": "markdown",
   "metadata": {},
   "source": [
    "#### Import Required Packages"
   ]
  },
  {
   "cell_type": "code",
   "execution_count": 1,
   "metadata": {},
   "outputs": [],
   "source": [
    "import pandas as pd\n",
    "import os\n",
    "import time\n",
    "from selenium import webdriver\n",
    "from selenium.webdriver.support.ui import Select"
   ]
  },
  {
   "cell_type": "markdown",
   "metadata": {},
   "source": [
    "#### Create Empty Dataframe to store data"
   ]
  },
  {
   "cell_type": "code",
   "execution_count": 2,
   "metadata": {},
   "outputs": [],
   "source": [
    "columns = ['Affiliation No.', 'State', 'Name', 'Head', 'Status', 'Affiliated upto', 'Address', 'Phone No.', 'Email']\n",
    "data = pd.DataFrame(columns=columns)"
   ]
  },
  {
   "cell_type": "code",
   "execution_count": 3,
   "metadata": {},
   "outputs": [],
   "source": [
    "base_url = \"http://cbseaff.nic.in/cbse_aff/schdir_Report/userview.aspx\""
   ]
  },
  {
   "cell_type": "markdown",
   "metadata": {},
   "source": [
    "#### We can first get list of all states. "
   ]
  },
  {
   "cell_type": "code",
   "execution_count": 4,
   "metadata": {},
   "outputs": [],
   "source": [
    "driver_path =\"chromedriver_win32/chromedriver.exe\"\n",
    "os.environ[\"webdriver.chrome.driver\"] = driver_path\n",
    "driver = webdriver.Chrome(driver_path)\n",
    "\n",
    "driver.get(base_url)\n",
    "radio = driver.find_element_by_id(\"optlist_2\")\n",
    "radio.click()\n",
    "\n",
    "time.sleep(1)\n",
    "\n",
    "state_list = driver.find_element_by_id(\"ddlitem\")\n",
    "options = state_list.find_elements_by_tag_name('option')\n",
    "\n",
    "states = []\n",
    "for option in options:\n",
    "    states.append(option.text)\n",
    "\n",
    "states = states[1:]\n",
    "driver.quit()"
   ]
  },
  {
   "cell_type": "code",
   "execution_count": 5,
   "metadata": {},
   "outputs": [
    {
     "data": {
      "text/plain": [
       "['ANDAMAN & NICOBAR ',\n",
       " 'ANDHRA PRADESH ',\n",
       " 'ARUNACHAL PRADESH ',\n",
       " 'ASSAM ',\n",
       " 'BIHAR ',\n",
       " 'CHANDIGARH ',\n",
       " 'CHATTISGARH ',\n",
       " 'DADAR & NAGAR HAVELI ',\n",
       " 'DAMAN & DIU ',\n",
       " 'DELHI ',\n",
       " 'FOREIGN SCHOOLS',\n",
       " 'GOA ',\n",
       " 'GUJARAT ',\n",
       " 'HARYANA ',\n",
       " 'HIMACHAL PRADESH ',\n",
       " 'JAMMU & KASHMIR ',\n",
       " 'JHARKHAND',\n",
       " 'KARNATAKA ',\n",
       " 'KERALA ',\n",
       " 'LAKSHADWEEP ',\n",
       " 'MADHYA PRADESH ',\n",
       " 'MAHARASHTRA ',\n",
       " 'MANIPUR ',\n",
       " 'MEGHALAYA ',\n",
       " 'MIZORAM ',\n",
       " 'NAGALAND ',\n",
       " 'ODISHA',\n",
       " 'PUDUCHERRY',\n",
       " 'PUNJAB ',\n",
       " 'RAJASTHAN ',\n",
       " 'SIKKIM ',\n",
       " 'TAMILNADU ',\n",
       " 'TELANGANA',\n",
       " 'TRIPURA ',\n",
       " 'UTTAR PRADESH',\n",
       " 'UTTARAKHAND',\n",
       " 'WEST BENGAL ']"
      ]
     },
     "execution_count": 5,
     "metadata": {},
     "output_type": "execute_result"
    }
   ],
   "source": [
    "states"
   ]
  },
  {
   "cell_type": "code",
   "execution_count": 6,
   "metadata": {},
   "outputs": [],
   "source": [
    "#### Functions for reading the html elements and getting desired values"
   ]
  },
  {
   "cell_type": "code",
   "execution_count": 7,
   "metadata": {},
   "outputs": [],
   "source": [
    "def get_field_value(info):\n",
    "    value = info.find_elements_by_tag_name('td')[0].text\n",
    "    value = value.split(\":\")[1]\n",
    "    value = value.lstrip()\n",
    "    value = value.rstrip()\n",
    "\n",
    "    return value\n",
    "\n",
    "def get_field_value_affiliation(info):\n",
    "    value = info.find_elements_by_tag_name('td')[0].text\n",
    "    value = value.split(\".\")[1]\n",
    "    \n",
    "    return value\n",
    "\n",
    "def get_info(table, schools):\n",
    "    schools_ = []\n",
    "    row = table.find_element_by_tag_name('tr')\n",
    "    td = row.find_element_by_tag_name('td')\n",
    "    \n",
    "    inside_tables = td.find_elements_by_tag_name('table')\n",
    "    \n",
    "    school = []\n",
    "    for index, tble in enumerate(inside_tables[1:]):\n",
    "        if index % 3 == 1:\n",
    "            info = tble.find_elements_by_tag_name('tr')            \n",
    "            school.append( get_field_value_affiliation(info[0]) ) ## Affiliation Nmuber\n",
    "            school.append( get_field_value(info[1]) ) ## Name\n",
    "            school.append( get_field_value(info[2]) ) ## Head\n",
    "            school.append( get_field_value(info[3]) ) ## Status\n",
    "            school.append( get_field_value(info[4]) ) ## Affiliated Upto\n",
    "            \n",
    "        elif index % 3 == 2:\n",
    "            info = tble.find_elements_by_tag_name('tr')\n",
    "            school.append( get_field_value(info[0]) ) ## Address\n",
    "            school.append( get_field_value(info[1]) ) ## Phone Number\n",
    "            school.append( get_field_value(info[2]) ) ## Email\n",
    "\n",
    "        else :\n",
    "            schools_.append(school)\n",
    "            school = []\n",
    "    schools_.append(school)\n",
    "    schools_ = schools_[1:]\n",
    "    for i in schools_:\n",
    "        schools.append(i)\n",
    "    \n",
    "    return schools"
   ]
  },
  {
   "cell_type": "code",
   "execution_count": 8,
   "metadata": {},
   "outputs": [
    {
     "name": "stdout",
     "output_type": "stream",
     "text": [
      "Total school in JHARKHAND : 433\n"
     ]
    }
   ],
   "source": [
    "stt = \"JHARKHAND\"\n",
    "driver = webdriver.Chrome(driver_path)\n",
    "\n",
    "driver.get(base_url)\n",
    "radio = driver.find_element_by_id(\"optlist_2\")\n",
    "radio.click()\n",
    "\n",
    "time.sleep(0.1)\n",
    "\n",
    "## Click the required state from the list\n",
    "state_list = Select(driver.find_element_by_id(\"ddlitem\"))\n",
    "state_list.select_by_visible_text(stt)\n",
    "\n",
    "search = driver.find_element_by_id(\"search\")\n",
    "search.click()\n",
    "\n",
    "time.sleep(0.1)\n",
    "\n",
    "## Find Total number of schools for state\n",
    "total_schools = driver.find_element_by_id(\"tot\")\n",
    "schools_count = int(total_schools.text)\n",
    "\n",
    "print(\"Total school in {} : {}\".format(stt, schools_count))\n",
    "\n",
    "table1 = driver.find_element_by_id(\"T1\")\n",
    "\n",
    "## Get data from first page of school\n",
    "schools = []\n",
    "schools = get_info(table1, schools)\n",
    "\n",
    "## Start getting data from other pages\n",
    "for i in range( int(schools_count/25) ):\n",
    "    \n",
    "    next_button = driver.find_element_by_id(\"Button1\")\n",
    "    next_button.click()\n",
    "    table = driver.find_element_by_id(\"T1\")\n",
    "    schools = get_info(table, schools)\n",
    "\n",
    "driver.quit()"
   ]
  },
  {
   "cell_type": "code",
   "execution_count": 9,
   "metadata": {},
   "outputs": [],
   "source": [
    "#### Format and store into a pandas dataframe"
   ]
  },
  {
   "cell_type": "code",
   "execution_count": 10,
   "metadata": {},
   "outputs": [],
   "source": [
    "affiliation, name, head, status, upto, address, phone, email = [],[],[],[],[],[],[],[]\n",
    "state = []\n",
    "\n",
    "for i, shl in enumerate(schools):\n",
    "    affiliation.append(shl[0]); name.append(shl[1]); head.append(shl[2]); \n",
    "    status.append(shl[3]); upto.append(shl[4]); address.append(shl[5]); phone.append(shl[6]); email.append(shl[7])\n",
    "\n",
    "    stt = stt.lstrip()\n",
    "    stt = stt.rstrip()\n",
    "    state.append(stt)\n",
    "\n",
    "    \n",
    "df = pd.DataFrame({'Affiliation No.' : affiliation, \n",
    "                   'State' : state,\n",
    "                   'Name' : name, \n",
    "                   'Head' : head, \n",
    "                   'Status' : status, \n",
    "                   'Affiliated upto' : upto, \n",
    "                   'Address' : address, \n",
    "                   'Phone No.' : phone, \n",
    "                   'Email' : email})\n",
    "\n",
    "df.to_csv( \"data/\" + stt + \"_school_data.csv\", index = False)"
   ]
  },
  {
   "cell_type": "markdown",
   "metadata": {},
   "source": [
    "#### We can use the following loop for iterating through all states and getting all the data"
   ]
  },
  {
   "cell_type": "code",
   "execution_count": 11,
   "metadata": {},
   "outputs": [],
   "source": [
    "# for stt in states:\n",
    "    \n",
    "#     driver = webdriver.Chrome(driver_path)\n",
    "    \n",
    "#     driver.get(base_url)\n",
    "#     radio = driver.find_element_by_id(\"optlist_2\")\n",
    "#     radio.click()\n",
    "\n",
    "#     time.sleep(1)\n",
    "    \n",
    "#     state_list = Select(driver.find_element_by_id(\"ddlitem\"))\n",
    "#     state_list.select_by_visible_text(stt)\n",
    "    \n",
    "#     search = driver.find_element_by_id(\"search\")\n",
    "#     search.click()\n",
    "\n",
    "#     time.sleep(1)\n",
    "\n",
    "#     total_schools = driver.find_element_by_id(\"tot\")\n",
    "#     schools_count = int(total_schools.text)\n",
    "\n",
    "#     print(stt, schools_count)\n",
    "    \n",
    "#     table1 = driver.find_element_by_id(\"T1\")\n",
    "\n",
    "#     schools = []\n",
    "\n",
    "#     schools = get_info(table1, schools)\n",
    "\n",
    "#     for i in range( int(schools_count/25) ):\n",
    "#         next_button = driver.find_element_by_id(\"Button1\")\n",
    "#         next_button.click()\n",
    "#         table = driver.find_element_by_id(\"T1\")\n",
    "#         schools = get_info(table, schools)\n",
    "        \n",
    "    \n",
    "#     affiliation, name, head, status, upto, address, phone, email = [],[],[],[],[],[],[],[]\n",
    "#     state = []\n",
    "    \n",
    "#     for i, shl in enumerate(schools):\n",
    "        \n",
    "#         affiliation.append(shl[0]); name.append(shl[1]); head.append(shl[2]); \n",
    "#         status.append(shl[3]); upto.append(shl[4]); address.append(shl[5]); phone.append(shl[6]); email.append(shl[7])\n",
    "        \n",
    "#         stt = stt.lstrip()\n",
    "#         stt = stt.rstrip()\n",
    "#         state.append(stt)\n",
    "    \n",
    "#     df = pd.DataFrame({'Affiliation No.' : affiliation, \n",
    "#                        'State' : state,\n",
    "#                        'Name' : name, \n",
    "#                        'Head' : head, \n",
    "#                        'Status' : status, \n",
    "#                        'Affiliated upto' : upto, \n",
    "#                        'Address' : address, \n",
    "#                        'Phone No.' : phone, \n",
    "#                        'Email' : email}) \n",
    "    \n",
    "#     data = pd.concat([data, df])\n",
    "    \n",
    "#     driver.quit()\n",
    "\n",
    "# data.to_csv(\"data/all_states_data.csv\",index = False)"
   ]
  }
 ],
 "metadata": {
  "anaconda-cloud": {},
  "kernelspec": {
   "display_name": "Python 3",
   "language": "python",
   "name": "python3"
  },
  "language_info": {
   "codemirror_mode": {
    "name": "ipython",
    "version": 3
   },
   "file_extension": ".py",
   "mimetype": "text/x-python",
   "name": "python",
   "nbconvert_exporter": "python",
   "pygments_lexer": "ipython3",
   "version": "3.5.5"
  }
 },
 "nbformat": 4,
 "nbformat_minor": 1
}
